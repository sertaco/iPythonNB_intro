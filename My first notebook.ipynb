{
 "cells": [
  {
   "cell_type": "markdown",
   "metadata": {},
   "source": [
    "# This is a first level heading"
   ]
  },
  {
   "cell_type": "markdown",
   "metadata": {},
   "source": [
    "## And this is two..."
   ]
  },
  {
   "cell_type": "markdown",
   "metadata": {},
   "source": [
    "### And three.."
   ]
  },
  {
   "cell_type": "code",
   "execution_count": 70,
   "metadata": {
    "collapsed": false
   },
   "outputs": [
    {
     "name": "stdout",
     "output_type": "stream",
     "text": [
      "9\n"
     ]
    }
   ],
   "source": [
    "\n",
    "print (a**2)\n"
   ]
  },
  {
   "cell_type": "code",
   "execution_count": 71,
   "metadata": {
    "collapsed": false
   },
   "outputs": [
    {
     "name": "stdout",
     "output_type": "stream",
     "text": [
      "Populating the interactive namespace from numpy and matplotlib\n"
     ]
    }
   ],
   "source": [
    "% pylab inline"
   ]
  },
  {
   "cell_type": "code",
   "execution_count": 72,
   "metadata": {
    "collapsed": false
   },
   "outputs": [
    {
     "data": {
      "text/plain": [
       "[<matplotlib.lines.Line2D at 0x7762080>]"
      ]
     },
     "execution_count": 72,
     "metadata": {},
     "output_type": "execute_result"
    },
    {
     "data": {
      "image/png": "[encoded data removed]",
      "text/plain": [
       "<matplotlib.figure.Figure at 0x76f5198>"
      ]
     },
     "metadata": {},
     "output_type": "display_data"
    }
   ],
   "source": [
    "x = numpy.linspace(-15,15,100) # 100 linearly spaced numbers\n",
    "y = numpy.sin(x)/x # computing the values of sin(x)/x\n",
    "\n",
    "plot(x,y)"
   ]
  },
  {
   "cell_type": "code",
   "execution_count": 73,
   "metadata": {
    "collapsed": false
   },
   "outputs": [
    {
     "data": {
      "text/plain": [
       "'C:\\\\Users\\\\soruc'"
      ]
     },
     "execution_count": 73,
     "metadata": {},
     "output_type": "execute_result"
    }
   ],
   "source": [
    "pwd"
   ]
  },
  {
   "cell_type": "code",
   "execution_count": 74,
   "metadata": {
    "collapsed": false
   },
   "outputs": [
    {
     "name": "stdout",
     "output_type": "stream",
     "text": [
      " Volume in drive C is Windows\n",
      " Volume Serial Number is A080-3368\n",
      "\n",
      " Directory of C:\\Users\\soruc\n",
      "\n",
      "20-05-2015  15:51    <DIR>          .\n",
      "20-05-2015  15:51    <DIR>          ..\n",
      "15-12-2014  14:08               231 .bash_history\n",
      "07-04-2015  10:28    <DIR>          .gimp-2.8\n",
      "16-12-2014  18:09                75 .gitconfig\n",
      "23-01-2015  15:10    <DIR>          .idlerc\n",
      "20-05-2015  13:05    <DIR>          .ipynb_checkpoints\n",
      "23-04-2015  10:28    <DIR>          .ipython\n",
      "20-05-2015  13:24    <DIR>          .matplotlib\n",
      "20-05-2015  11:27    <DIR>          .spyder2-py3\n",
      "03-03-2015  15:51    <DIR>          .ssh\n",
      "09-07-2014  12:41    <DIR>          .thumbnails\n",
      "13-03-2015  08:03    <DIR>          Contacts\n",
      "16-12-2014  18:02    <DIR>          datasciencecoursera\n",
      "18-01-2015  18:34    <DIR>          Desktop\n",
      "13-03-2015  08:03    <DIR>          Downloads\n",
      "08-04-2015  17:23    <DIR>          Dropbox\n",
      "16-12-2014  18:06    <DIR>          dscoursera\n",
      "13-03-2015  08:03    <DIR>          Links\n",
      "03-03-2015  14:18    <DIR>          MachineLearniNg\n",
      "03-05-2014  22:23    <DIR>          Miktex\n",
      "20-05-2015  15:51            19.058 My first notebook.ipynb\n",
      "15-12-2014  15:03    <DIR>          Rtools\n",
      "13-03-2015  08:03    <DIR>          Saved Games\n",
      "13-03-2015  08:03    <DIR>          Searches\n",
      "15-12-2014  14:27    <DIR>          test-repo\n",
      "02-04-2015  11:45    <DIR>          Tracing\n",
      "03-05-2014  22:06    <DIR>          WinEdt Team\n",
      "               3 File(s)         19.364 bytes\n",
      "              25 Dir(s)  21.861.650.432 bytes free\n"
     ]
    }
   ],
   "source": [
    "ls"
   ]
  },
  {
   "cell_type": "code",
   "execution_count": 75,
   "metadata": {
    "collapsed": true
   },
   "outputs": [],
   "source": [
    "# blah balh blah"
   ]
  },
  {
   "cell_type": "code",
   "execution_count": 76,
   "metadata": {
    "collapsed": false
   },
   "outputs": [
    {
     "name": "stdout",
     "output_type": "stream",
     "text": [
      "Hello world\n"
     ]
    }
   ],
   "source": [
    "print(\"Hello world\")\n"
   ]
  },
  {
   "cell_type": "code",
   "execution_count": 77,
   "metadata": {
    "collapsed": true
   },
   "outputs": [],
   "source": [
    "import numpy"
   ]
  },
  {
   "cell_type": "code",
   "execution_count": 78,
   "metadata": {
    "collapsed": false
   },
   "outputs": [
    {
     "data": {
      "text/plain": [
       "0.3053705313166668"
      ]
     },
     "execution_count": 78,
     "metadata": {},
     "output_type": "execute_result"
    }
   ],
   "source": [
    "numpy.random.rand()\n"
   ]
  },
  {
   "cell_type": "code",
   "execution_count": 80,
   "metadata": {
    "collapsed": true
   },
   "outputs": [],
   "source": [
    "magic?"
   ]
  },
  {
   "cell_type": "code",
   "execution_count": 84,
   "metadata": {
    "collapsed": false
   },
   "outputs": [
    {
     "data": {
      "image/png": "[encoded data removed]",
      "text/plain": [
       "<matplotlib.figure.Figure at 0x7a3e5f8>"
      ]
     },
     "metadata": {},
     "output_type": "display_data"
    }
   ],
   "source": [
    "# %load http://matplotlib.org/mpl_examples/showcase/integral_demo.py\n",
    "\"\"\"\n",
    "Plot demonstrating the integral as the area under a curve.\n",
    "\n",
    "Although this is a simple example, it demonstrates some important tweaks:\n",
    "\n",
    "    * A simple line plot with custom color and line width.\n",
    "    * A shaded region created using a Polygon patch.\n",
    "    * A text label with mathtext rendering.\n",
    "    * figtext calls to label the x- and y-axes.\n",
    "    * Use of axis spines to hide the top and right spines.\n",
    "    * Custom tick placement and labels.\n",
    "\"\"\"\n",
    "import numpy as np\n",
    "import matplotlib.pyplot as plt\n",
    "from matplotlib.patches import Polygon\n",
    "\n",
    "\n",
    "def func(x):\n",
    "    return (x - 3) * (x - 5) * (x - 7) + 85\n",
    "\n",
    "\n",
    "a, b = 2, 9 # integral limits\n",
    "x = np.linspace(0, 10)\n",
    "y = func(x)\n",
    "\n",
    "fig, ax = plt.subplots()\n",
    "plt.plot(x, y, 'r', linewidth=2)\n",
    "plt.ylim(ymin=0)\n",
    "\n",
    "# Make the shaded region\n",
    "ix = np.linspace(a, b)\n",
    "iy = func(ix)\n",
    "verts = [(a, 0)] + list(zip(ix, iy)) + [(b, 0)]\n",
    "poly = Polygon(verts, facecolor='0.9', edgecolor='0.5')\n",
    "ax.add_patch(poly)\n",
    "\n",
    "plt.text(0.5 * (a + b), 30, r\"$\\int_a^b f(x)\\mathrm{d}x$\",\n",
    "         horizontalalignment='center', fontsize=20)\n",
    "\n",
    "plt.figtext(0.9, 0.05, '$x$')\n",
    "plt.figtext(0.1, 0.9, '$y$')\n",
    "\n",
    "ax.spines['right'].set_visible(False)\n",
    "ax.spines['top'].set_visible(False)\n",
    "ax.xaxis.set_ticks_position('bottom')\n",
    "\n",
    "ax.set_xticks((a, b))\n",
    "ax.set_xticklabels(('$a$', '$b$'))\n",
    "ax.set_yticks([])\n",
    "\n",
    "plt.show()\n"
   ]
  },
  {
   "cell_type": "code",
   "execution_count": null,
   "metadata": {
    "collapsed": true
   },
   "outputs": [],
   "source": []
  }
 ],
 "metadata": {
  "kernelspec": {
   "display_name": "Python 3",
   "language": "python",
   "name": "python3"
  },
  "language_info": {
   "codemirror_mode": {
    "name": "ipython",
    "version": 3
   },
   "file_extension": ".py",
   "mimetype": "text/x-python",
   "name": "python",
   "nbconvert_exporter": "python",
   "pygments_lexer": "ipython3",
   "version": "3.4.3"
  }
 },
 "nbformat": 4,
 "nbformat_minor": 0
}
