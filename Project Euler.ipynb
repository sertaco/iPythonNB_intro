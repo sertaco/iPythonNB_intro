{
 "cells": [
  {
   "cell_type": "code",
   "execution_count": 5,
   "metadata": {
    "collapsed": false
   },
   "outputs": [],
   "source": [
    "# Libraries\n",
    "from pylab import * \n",
    "import numpy as np\n",
    "import time\n"
   ]
  },
  {
   "cell_type": "code",
   "execution_count": 6,
   "metadata": {
    "collapsed": false
   },
   "outputs": [
    {
     "name": "stdout",
     "output_type": "stream",
     "text": [
      "233168\n"
     ]
    }
   ],
   "source": [
    "#Q1 Multiples of 3 and 5\n",
    "\n",
    "var1 = 3\n",
    "var2 = 5\n",
    "underno = 1000\n",
    "count = 0\n",
    "\n",
    "for i in range(1, underno):\n",
    "    ind1 = i%var1\n",
    "    ind2 = i%var2\n",
    "    if ind1 * ind2 == 0:\n",
    "        count = count + i\n",
    "        \n",
    "print(count)        \n"
   ]
  },
  {
   "cell_type": "code",
   "execution_count": 7,
   "metadata": {
    "collapsed": false
   },
   "outputs": [
    {
     "name": "stdout",
     "output_type": "stream",
     "text": [
      "4613732\n"
     ]
    }
   ],
   "source": [
    "#Q2 Even Fibonacci numbers\n",
    "\n",
    "fib_ = 1\n",
    "fib = 2\n",
    "until = 4*10**6\n",
    "mysum = 0\n",
    "\n",
    "while fib <= until:\n",
    "    if ~fib%2:\n",
    "        mysum = mysum + fib\n",
    "    dummy = fib \n",
    "    fib = fib + fib_\n",
    "    fib_ = dummy\n",
    "\n",
    "print(mysum)    "
   ]
  },
  {
   "cell_type": "code",
   "execution_count": 25,
   "metadata": {
    "collapsed": false
   },
   "outputs": [
    {
     "name": "stdout",
     "output_type": "stream",
     "text": [
      "6857.0\n"
     ]
    }
   ],
   "source": [
    "#Q3 Largest prime factor\n",
    "\n",
    "def isPrime(number):\n",
    "    for i in range(2,int(np.sqrt(number))+1):\n",
    "        if not bool(number % i):\n",
    "            return False\n",
    "    return True\n",
    "\n",
    "\n",
    "number = 600851475143\n",
    "\n",
    "def largestprime(number):\n",
    "    out = 0\n",
    "    if isPrime(number):\n",
    "        out = number\n",
    "    else:\n",
    "        i = 2\n",
    "        k = int(np.sqrt(number))\n",
    "        while i < k+1:\n",
    "            \n",
    "            if (not bool(number % i)) and isPrime(i):\n",
    "                out = i\n",
    "                while(not bool(number % i)):\n",
    "                    number = number/i\n",
    "                k = int(round(np.sqrt(number)))\n",
    "            i += 1\n",
    "        if (out < number) and isPrime(number):\n",
    "            out = number\n",
    "    return out\n",
    "\n",
    "\n",
    "\n",
    "  \n",
    "print(largestprime(number))  \n"
   ]
  },
  {
   "cell_type": "code",
   "execution_count": 9,
   "metadata": {
    "collapsed": false
   },
   "outputs": [
    {
     "name": "stdout",
     "output_type": "stream",
     "text": [
      "906609\n"
     ]
    }
   ],
   "source": [
    "#Q4 Largest palindrome product\n",
    "def isPalindrome(number):\n",
    "    number = str(number)\n",
    "    lenno = len(number)\n",
    "    kamil = int(lenno/2)\n",
    "    no1 = number[-kamil:]\n",
    "    no2 = number[:kamil]\n",
    "    no2 = no2[::-1]\n",
    "    return(no2 == no1)   \n",
    "\n",
    "def largestpalindrome(nodigits):\n",
    "    out=0\n",
    "    numbeg = 10**(nodigits-1)   \n",
    "    numend = 10**nodigits    \n",
    "    for i in range(numbeg,numend):\n",
    "        for j in range(i,numend):\n",
    "            if isPalindrome(i*j) and (i*j>out):\n",
    "                out = i*j\n",
    "    return out        \n",
    "\n",
    "print(largestpalindrome(3))"
   ]
  },
  {
   "cell_type": "code",
   "execution_count": 30,
   "metadata": {
    "collapsed": false
   },
   "outputs": [
    {
     "name": "stdout",
     "output_type": "stream",
     "text": [
      "Answer is  232792560  calculated in  0.0008906364572511606  seconds\n"
     ]
    }
   ],
   "source": [
    "#Q5 Smallest multiple\n",
    "begt = time.clock()\n",
    "def evenlydivisible(until):\n",
    "    divisors = list(range(2,until+1)) \n",
    "    divisors = divisors\n",
    "    primes =[]\n",
    "    for i in divisors:\n",
    "        if isPrime(i):\n",
    "            primes.append(i)\n",
    "        \n",
    "    divmat = np.zeros(shape = (len(primes),len(divisors)))\n",
    "    \n",
    "    for i in divisors:\n",
    "        num = i\n",
    "        \n",
    "        while not num == 1:\n",
    "            num = int(num)\n",
    "            larprime = largestprime(num)\n",
    "            ind = (primes.index(larprime),divisors.index(i))\n",
    "            divmat[ind] += 1\n",
    "            num = num/larprime\n",
    "        \n",
    "    powers = divmat.max(axis=1)\n",
    "    \n",
    "    out = 1\n",
    "    for i in range(len(powers)):\n",
    "        out *= primes[i]**powers[i]\n",
    "    \n",
    "    return int(out)\n",
    "\n",
    "print(\"Answer is \", evenlydivisible(20),\" calculated in \",time.clock()-begt , ' seconds')"
   ]
  },
  {
   "cell_type": "code",
   "execution_count": 11,
   "metadata": {
    "collapsed": true
   },
   "outputs": [],
   "source": [
    "#Q6 Sum square difference"
   ]
  },
  {
   "cell_type": "code",
   "execution_count": 29,
   "metadata": {
    "collapsed": false
   },
   "outputs": [],
   "source": [
    "# This cell is reserved for trying things out!\n",
    "\n"
   ]
  },
  {
   "cell_type": "code",
   "execution_count": 13,
   "metadata": {
    "collapsed": true
   },
   "outputs": [],
   "source": []
  }
 ],
 "metadata": {
  "kernelspec": {
   "display_name": "Python 3",
   "language": "python",
   "name": "python3"
  },
  "language_info": {
   "codemirror_mode": {
    "name": "ipython",
    "version": 3
   },
   "file_extension": ".py",
   "mimetype": "text/x-python",
   "name": "python",
   "nbconvert_exporter": "python",
   "pygments_lexer": "ipython3",
   "version": "3.4.3"
  }
 },
 "nbformat": 4,
 "nbformat_minor": 0
}
